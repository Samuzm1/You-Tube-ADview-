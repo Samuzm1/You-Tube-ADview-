{
  "nbformat": 4,
  "nbformat_minor": 0,
  "metadata": {
    "colab": {
      "name": "Untitled32.ipynb",
      "provenance": [],
      "collapsed_sections": [],
      "toc_visible": true
    },
    "kernelspec": {
      "name": "python3",
      "display_name": "Python 3"
    },
    "language_info": {
      "name": "python"
    }
  },
  "cells": [
    {
      "cell_type": "code",
      "execution_count": null,
      "metadata": {
        "id": "mmOeDuatgN12"
      },
      "outputs": [],
      "source": [
        "import numpy as np\n",
        "import pandas as pd\n",
        "import matplotlib.cm as cm\n",
        "import matplotlib.pyplot as plt\n",
        "\n",
        "path=\"\"\n",
        "data_train= pd.read_csv(path + \"train.csv\")\n",
        "data_train.head()\n",
        "data_train.shape\n",
        "category={'A':1,'B':2,'C':3,'D':4,'E':5,'F':6,'G':7,'H':8}\n",
        "data_train[\"category\"]=data_train[\"category\"].map(category)\n",
        "data_train.head()\n",
        "data_train=data_train[data_train.views!='F']\n",
        "data_train=data_train[data_train.likes!='F']\n",
        "data_train=data_train[data_train.dislikes!='F']\n",
        "data_train=data_train[data_train.comment!='F']\n",
        "\n",
        "data_train[\"views\"]=pd.to_numeric(data_train[\"views\"])\n",
        "data_train[\"likes\"]=pd.to_numeric(data_train[\"likes\"])\n",
        "data_train[\"dislikes\"]=pd.to_numeric(data_train[\"dislikes\"])\n",
        "data_train[\"comment\"]=pd.to_numeric(data_train[\"comment\"])\n",
        "data_train[\"adview\"]=pd.to_numeric(data_train[\"adview\"])\n",
        "\n",
        "column_vidid=data_train['vidid']\n",
        "\n",
        "from sklearn.preprocessing import LabelEncoder\n",
        "data_train['duration']=LabelEncoder().fit_transform(data_train['duration'])\n",
        "data_train['vidid']=LabelEncoder().fit_transform(data_train['vidid'])\n",
        "data_train['published']=LabelEncoder().fit_transform(data_train['published'])\n",
        "\n",
        "data_train.head()\n",
        "\n",
        "import datetime\n",
        "import time\n",
        "def checki(x):\n",
        " y=x[2:]\n",
        " h=''\n",
        " m=''\n",
        " s=''\n",
        " mm=''\n",
        " p=['H','M','S']\n",
        " for i in y:\n",
        "   if i not in p:\n",
        "     mm+=i\n",
        "   else:\n",
        "      if (i==\"H\"):\n",
        "         h=mm\n",
        "         mm=''\n",
        "      elif(i==\"M\"):\n",
        "           m=mm\n",
        "           mm=''\n",
        "      else:\n",
        "           s=mm\n",
        "           mm=''\n",
        "   if (h==''):\n",
        "     h=='00'\n",
        "   if(m==''):\n",
        "     m=='00'\n",
        "   if(s==''):\n",
        "     s=='00'\n",
        "   bp= h+':'+m+':'+s\n",
        "   return bp \n",
        " train=pd.read_csv(\"train.csv\")\n",
        " mp=pd.read_csv(path + \"train.csv\")[\"duration\"]\n",
        " time_1=mp.apply(checki)\n",
        " print(type(time_1))\n",
        " print(type(mp))\n",
        " print(time_1)\n",
        " time1=time_1.apply(func_sec)\n",
        " data_train[\"duration\"]=time_1\n",
        " data_train.head()\n",
        "\n",
        "\n",
        "def func_sec(time_string):\n",
        "    h,m,s= time_string.split(':')\n",
        "    return int(h) * 3600 + int(m) * 60 + int(s)\n"
      ]
    },
    {
      "cell_type": "code",
      "source": [
        "\n",
        "plt.hist(data_train[\"category\"])\n",
        "plt.show()\n",
        "plt.plot(data_train[\"adview\"])\n",
        "plt.show()\n",
        "data_train = data_train[data_train[\"adview\"]<2000000]\n"
      ],
      "metadata": {
        "colab": {
          "base_uri": "https://localhost:8080/",
          "height": 513
        },
        "id": "8pHflYhsykx_",
        "outputId": "fb56e643-9870-47d6-9ee9-1833a006c561"
      },
      "execution_count": null,
      "outputs": [
        {
          "output_type": "display_data",
          "data": {
            "text/plain": [
              "<Figure size 432x288 with 1 Axes>"
            ],
            "image/png": "[encoded data removed]"
          },
          "metadata": {
            "needs_background": "light"
          }
        },
        {
          "output_type": "display_data",
          "data": {
            "text/plain": [
              "<Figure size 432x288 with 1 Axes>"
            ],
            "image/png": "[encoded data removed]"
          },
          "metadata": {
            "needs_background": "light"
          }
        }
      ]
    },
    {
      "cell_type": "code",
      "source": [
        "import seaborn as sns\n",
        "f, ax = plt.subplots(figsize=(10,8))\n",
        "corr = data_train.corr()\n",
        "sns.heatmap(corr,mask=np.zeros_like(corr,dtype=np.bool),cmap=sns.diverging_palette(200,10,as_cmap=True),square=True,ax=ax,annot=True)\n",
        "plt.show()\n",
        "\n",
        "Y_train = pd.DataFrame(data= data_train.iloc[:,1].values, columns=['target'])\n",
        "data_train = data_train.drop([\"adview\"],axis=1)\n",
        "data_train = data_train.drop([\"vidid\"],axis=1)\n",
        "data_train.head()\n"
      ],
      "metadata": {
        "colab": {
          "base_uri": "https://localhost:8080/",
          "height": 748
        },
        "id": "PtJHfZJbzogS",
        "outputId": "1e24903d-5e14-43f8-f6ad-d11059e4a68f"
      },
      "execution_count": null,
      "outputs": [
        {
          "output_type": "stream",
          "name": "stderr",
          "text": [
            "/usr/local/lib/python3.7/dist-packages/ipykernel_launcher.py:4: DeprecationWarning: `np.bool` is a deprecated alias for the builtin `bool`. To silence this warning, use `bool` by itself. Doing this will not modify any behavior and is safe. If you specifically wanted the numpy scalar type, use `np.bool_` here.\n",
            "Deprecated in NumPy 1.20; for more details and guidance: https://numpy.org/devdocs/release/1.20.0-notes.html#deprecations\n",
            "  after removing the cwd from sys.path.\n"
          ]
        },
        {
          "output_type": "display_data",
          "data": {
            "text/plain": [
              "<Figure size 720x576 with 2 Axes>"
            ],
            "image/png": "[encoded data removed]"
          },
          "metadata": {
            "needs_background": "light"
          }
        },
        {
          "output_type": "execute_result",
          "data": {
            "text/plain": [
              "     views  likes  dislikes  comment  published  duration  category\n",
              "0  1031602   8523       363     1095       2168      2925         6\n",
              "1     1707     56         2        6       2185      3040         4\n",
              "2     2023     25         0        2       2094      1863         3\n",
              "3   620860    777       161      153       2119      2546         8\n",
              "4      666      1         0        0       2091      1963         4"
            ],
            "text/html": [
              "\n",
              "  <div id=\"df-b22a0885-4da8-4cb3-ac13-fa96a9a33586\">\n",
              "    <div class=\"colab-df-container\">\n",
              "      <div>\n",
              "<style scoped>\n",
              "    .dataframe tbody tr th:only-of-type {\n",
              "        vertical-align: middle;\n",
              "    }\n",
              "\n",
              "    .dataframe tbody tr th {\n",
              "        vertical-align: top;\n",
              "    }\n",
              "\n",
              "    .dataframe thead th {\n",
              "        text-align: right;\n",
              "    }\n",
              "</style>\n",
              "<table border=\"1\" class=\"dataframe\">\n",
              "  <thead>\n",
              "    <tr style=\"text-align: right;\">\n",
              "      <th></th>\n",
              "      <th>views</th>\n",
              "      <th>likes</th>\n",
              "      <th>dislikes</th>\n",
              "      <th>comment</th>\n",
              "      <th>published</th>\n",
              "      <th>duration</th>\n",
              "      <th>category</th>\n",
              "    </tr>\n",
              "  </thead>\n",
              "  <tbody>\n",
              "    <tr>\n",
              "      <th>0</th>\n",
              "      <td>1031602</td>\n",
              "      <td>8523</td>\n",
              "      <td>363</td>\n",
              "      <td>1095</td>\n",
              "      <td>2168</td>\n",
              "      <td>2925</td>\n",
              "      <td>6</td>\n",
              "    </tr>\n",
              "    <tr>\n",
              "      <th>1</th>\n",
              "      <td>1707</td>\n",
              "      <td>56</td>\n",
              "      <td>2</td>\n",
              "      <td>6</td>\n",
              "      <td>2185</td>\n",
              "      <td>3040</td>\n",
              "      <td>4</td>\n",
              "    </tr>\n",
              "    <tr>\n",
              "      <th>2</th>\n",
              "      <td>2023</td>\n",
              "      <td>25</td>\n",
              "      <td>0</td>\n",
              "      <td>2</td>\n",
              "      <td>2094</td>\n",
              "      <td>1863</td>\n",
              "      <td>3</td>\n",
              "    </tr>\n",
              "    <tr>\n",
              "      <th>3</th>\n",
              "      <td>620860</td>\n",
              "      <td>777</td>\n",
              "      <td>161</td>\n",
              "      <td>153</td>\n",
              "      <td>2119</td>\n",
              "      <td>2546</td>\n",
              "      <td>8</td>\n",
              "    </tr>\n",
              "    <tr>\n",
              "      <th>4</th>\n",
              "      <td>666</td>\n",
              "      <td>1</td>\n",
              "      <td>0</td>\n",
              "      <td>0</td>\n",
              "      <td>2091</td>\n",
              "      <td>1963</td>\n",
              "      <td>4</td>\n",
              "    </tr>\n",
              "  </tbody>\n",
              "</table>\n",
              "</div>\n",
              "      <button class=\"colab-df-convert\" onclick=\"convertToInteractive('df-b22a0885-4da8-4cb3-ac13-fa96a9a33586')\"\n",
              "              title=\"Convert this dataframe to an interactive table.\"\n",
              "              style=\"display:none;\">\n",
              "        \n",
              "  <svg xmlns=\"http://www.w3.org/2000/svg\" height=\"24px\"viewBox=\"0 0 24 24\"\n",
              "       width=\"24px\">\n",
              "    <path d=\"M0 0h24v24H0V0z\" fill=\"none\"/>\n",
              "    <path d=\"M18.56 5.44l.94 2.06.94-2.06 2.06-.94-2.06-.94-.94-2.06-.94 2.06-2.06.94zm-11 1L8.5 8.5l.94-2.06 2.06-.94-2.06-.94L8.5 2.5l-.94 2.06-2.06.94zm10 10l.94 2.06.94-2.06 2.06-.94-2.06-.94-.94-2.06-.94 2.06-2.06.94z\"/><path d=\"M17.41 7.96l-1.37-1.37c-.4-.4-.92-.59-1.43-.59-.52 0-1.04.2-1.43.59L10.3 9.45l-7.72 7.72c-.78.78-.78 2.05 0 2.83L4 21.41c.39.39.9.59 1.41.59.51 0 1.02-.2 1.41-.59l7.78-7.78 2.81-2.81c.8-.78.8-2.07 0-2.86zM5.41 20L4 18.59l7.72-7.72 1.47 1.35L5.41 20z\"/>\n",
              "  </svg>\n",
              "      </button>\n",
              "      \n",
              "  <style>\n",
              "    .colab-df-container {\n",
              "      display:flex;\n",
              "      flex-wrap:wrap;\n",
              "      gap: 12px;\n",
              "    }\n",
              "\n",
              "    .colab-df-convert {\n",
              "      background-color: #E8F0FE;\n",
              "      border: none;\n",
              "      border-radius: 50%;\n",
              "      cursor: pointer;\n",
              "      display: none;\n",
              "      fill: #1967D2;\n",
              "      height: 32px;\n",
              "      padding: 0 0 0 0;\n",
              "      width: 32px;\n",
              "    }\n",
              "\n",
              "    .colab-df-convert:hover {\n",
              "      background-color: #E2EBFA;\n",
              "      box-shadow: 0px 1px 2px rgba(60, 64, 67, 0.3), 0px 1px 3px 1px rgba(60, 64, 67, 0.15);\n",
              "      fill: #174EA6;\n",
              "    }\n",
              "\n",
              "    [theme=dark] .colab-df-convert {\n",
              "      background-color: #3B4455;\n",
              "      fill: #D2E3FC;\n",
              "    }\n",
              "\n",
              "    [theme=dark] .colab-df-convert:hover {\n",
              "      background-color: #434B5C;\n",
              "      box-shadow: 0px 1px 3px 1px rgba(0, 0, 0, 0.15);\n",
              "      filter: drop-shadow(0px 1px 2px rgba(0, 0, 0, 0.3));\n",
              "      fill: #FFFFFF;\n",
              "    }\n",
              "  </style>\n",
              "\n",
              "      <script>\n",
              "        const buttonEl =\n",
              "          document.querySelector('#df-b22a0885-4da8-4cb3-ac13-fa96a9a33586 button.colab-df-convert');\n",
              "        buttonEl.style.display =\n",
              "          google.colab.kernel.accessAllowed ? 'block' : 'none';\n",
              "\n",
              "        async function convertToInteractive(key) {\n",
              "          const element = document.querySelector('#df-b22a0885-4da8-4cb3-ac13-fa96a9a33586');\n",
              "          const dataTable =\n",
              "            await google.colab.kernel.invokeFunction('convertToInteractive',\n",
              "                                                     [key], {});\n",
              "          if (!dataTable) return;\n",
              "\n",
              "          const docLinkHtml = 'Like what you see? Visit the ' +\n",
              "            '<a target=\"_blank\" href=https://colab.research.google.com/notebooks/data_table.ipynb>data table notebook</a>'\n",
              "            + ' to learn more about interactive tables.';\n",
              "          element.innerHTML = '';\n",
              "          dataTable['output_type'] = 'display_data';\n",
              "          await google.colab.output.renderOutput(dataTable, element);\n",
              "          const docLink = document.createElement('div');\n",
              "          docLink.innerHTML = docLinkHtml;\n",
              "          element.appendChild(docLink);\n",
              "        }\n",
              "      </script>\n",
              "    </div>\n",
              "  </div>\n",
              "  "
            ]
          },
          "metadata": {},
          "execution_count": 28
        }
      ]
    },
    {
      "cell_type": "code",
      "source": [
        "from sklearn.model_selection import train_test_split\n",
        "X_train , X_test, y_train, y_test = train_test_split(data_train,Y_train, test_size=0.2,random_state=42)\n",
        "X_train.shape\n",
        "\n",
        "X_train.mean()"
      ],
      "metadata": {
        "colab": {
          "base_uri": "https://localhost:8080/",
          "height": 0
        },
        "id": "IaQoMYnV6JxU",
        "outputId": "124e582d-3bfc-47bc-949f-b4da590f59f5"
      },
      "execution_count": 31,
      "outputs": [
        {
          "output_type": "execute_result",
          "data": {
            "text/plain": [
              "views        734443.363535\n",
              "likes          2824.984172\n",
              "dislikes        262.511465\n",
              "comment         419.038330\n",
              "published      1548.973306\n",
              "duration       1851.439339\n",
              "category          4.610455\n",
              "dtype: float64"
            ]
          },
          "metadata": {},
          "execution_count": 31
        }
      ]
    },
    {
      "cell_type": "code",
      "source": [
        "from sklearn.preprocessing import MinMaxScaler\n",
        "scaler = MinMaxScaler()\n",
        "X_train = scaler.fit_transform(X_train)\n",
        "X_test = scaler.fit_transform(X_test)\n",
        "\n"
      ],
      "metadata": {
        "id": "1IYqBIYX6_CT"
      },
      "execution_count": 34,
      "outputs": []
    },
    {
      "cell_type": "code",
      "source": [
        "from sklearn import metrics\n",
        "def print_error(X_test,y_test,model_name):\n",
        "  prediction= model_name.predict(X_test)\n",
        "  print('Mean Absolute Error : ',metrics.mean_absolute_error(y_test,prediction))\n",
        "  print('Mean Squared Error : ',metrics.mean_squared_error(y_test,prediction))\n",
        "  print('Root Mean Squared Error : ',np.sqrt(metrics.mean_squared_error(y_test,prediction)))"
      ],
      "metadata": {
        "id": "HiOmzqFv96n-"
      },
      "execution_count": 45,
      "outputs": []
    },
    {
      "cell_type": "code",
      "source": [
        "from sklearn import linear_model\n",
        "linear_regression = linear_model.LinearRegression()\n",
        "linear_regression.fit(X_train,y_train)\n",
        "print_error(X_test,y_test,linear_regression)"
      ],
      "metadata": {
        "colab": {
          "base_uri": "https://localhost:8080/",
          "height": 0
        },
        "id": "i4haaHp_B33I",
        "outputId": "3838a1ad-9ce5-42e1-e8d6-c2cbce869e01"
      },
      "execution_count": 46,
      "outputs": [
        {
          "output_type": "stream",
          "name": "stdout",
          "text": [
            "Mean Absolute Error :  1641.641339526323\n",
            "Mean Squared Error :  67388655.75902022\n",
            "Root Mean Squared Error :  8209.059371147234\n"
          ]
        }
      ]
    },
    {
      "cell_type": "code",
      "source": [
        "from sklearn.tree import DecisionTreeRegressor\n",
        "decision_tree= DecisionTreeRegressor()\n",
        "decision_tree.fit(X_train,y_train)\n",
        "print_error(X_test,y_test,decision_tree)"
      ],
      "metadata": {
        "colab": {
          "base_uri": "https://localhost:8080/",
          "height": 0
        },
        "id": "RbKlddzjCQzF",
        "outputId": "5fc9ec64-a379-4830-aaf0-0254d5c71000"
      },
      "execution_count": 48,
      "outputs": [
        {
          "output_type": "stream",
          "name": "stdout",
          "text": [
            "Mean Absolute Error :  1820.831279945243\n",
            "Mean Squared Error :  131251006.35215606\n",
            "Root Mean Squared Error :  11456.483158114275\n"
          ]
        }
      ]
    },
    {
      "cell_type": "code",
      "source": [
        "from sklearn.ensemble import RandomForestRegressor\n",
        "n_estimators = 200\n",
        "max_depth= 25\n",
        "min_samples_split = 15\n",
        "min_samples_leaf = 2\n",
        "random_forest = RandomForestRegressor(n_estimators= n_estimators, max_depth= max_depth , min_samples_split= min_samples_split , min_samples_leaf= min_samples_leaf)\n",
        "random_forest.fit(X_train,y_train)\n",
        "print_error(X_test,y_test,random_forest)"
      ],
      "metadata": {
        "colab": {
          "base_uri": "https://localhost:8080/",
          "height": 0
        },
        "id": "HiOF9l-GDCLy",
        "outputId": "3dd13714-2524-4250-b6d7-d4abbbe0c885"
      },
      "execution_count": 49,
      "outputs": [
        {
          "output_type": "stream",
          "name": "stderr",
          "text": [
            "/usr/local/lib/python3.7/dist-packages/ipykernel_launcher.py:7: DataConversionWarning: A column-vector y was passed when a 1d array was expected. Please change the shape of y to (n_samples,), for example using ravel().\n",
            "  import sys\n"
          ]
        },
        {
          "output_type": "stream",
          "name": "stdout",
          "text": [
            "Mean Absolute Error :  1915.0260291020434\n",
            "Mean Squared Error :  70612106.95080498\n",
            "Root Mean Squared Error :  8403.101031809922\n"
          ]
        }
      ]
    },
    {
      "cell_type": "code",
      "source": [
        "from sklearn.svm import SVR\n",
        "supportvector_regressor = SVR()\n",
        "supportvector_regressor.fit(X_train,y_train)\n",
        "print_error(X_test,y_test,supportvector_regressor)"
      ],
      "metadata": {
        "colab": {
          "base_uri": "https://localhost:8080/",
          "height": 0
        },
        "id": "hlaKJMj7Ex_-",
        "outputId": "f90a5d78-038b-4900-a3c4-145574ddb6b3"
      },
      "execution_count": 52,
      "outputs": [
        {
          "output_type": "stream",
          "name": "stderr",
          "text": [
            "/usr/local/lib/python3.7/dist-packages/sklearn/utils/validation.py:993: DataConversionWarning: A column-vector y was passed when a 1d array was expected. Please change the shape of y to (n_samples, ), for example using ravel().\n",
            "  y = column_or_1d(y, warn=True)\n"
          ]
        },
        {
          "output_type": "stream",
          "name": "stdout",
          "text": [
            "Mean Absolute Error :  916.6406816913387\n",
            "Mean Squared Error :  68656453.37137596\n",
            "Root Mean Squared Error :  8285.918981704803\n"
          ]
        }
      ]
    },
    {
      "cell_type": "code",
      "source": [
        "from scipy.optimize import optimize\n",
        "from keras import activations\n",
        "import keras\n",
        "from keras.layers import Dense\n",
        "ann = keras.models.Sequential([\n",
        "                              Dense(6,activation=\"relu\",\n",
        "                              input_shape=X_train.shape[1:]),\n",
        "                              Dense(6,activation=\"relu\"),\n",
        "                              Dense(1)\n",
        "                              ])\n",
        "\n",
        "\n",
        "optimizer=keras.optimizers.adam_v2.Adam()\n",
        "loss = keras.losses.mean_squared_error\n",
        "ann.compile(optimizer= optimizer, loss= loss, metrics=[\"mean_squared_error\"])\n",
        "history = ann.fit(X_train,y_train,epochs=100)\n",
        "ann.summary()\n",
        "print_error(X_test,y_test,ann)\n"
      ],
      "metadata": {
        "colab": {
          "base_uri": "https://localhost:8080/",
          "height": 0
        },
        "id": "f9i-xfX7F39k",
        "outputId": "43f58c32-fb5b-445d-b708-a3a81baeded5"
      },
      "execution_count": null,
      "outputs": [
        {
          "output_type": "stream",
          "name": "stdout",
          "text": [
            "Epoch 1/100\n",
            "366/366 [==============================] - 1s 2ms/step - loss: 61804092.0000 - mean_squared_error: 61804092.0000\n",
            "Epoch 2/100\n",
            "366/366 [==============================] - 1s 2ms/step - loss: 61789520.0000 - mean_squared_error: 61789520.0000\n",
            "Epoch 3/100\n",
            "366/366 [==============================] - 1s 2ms/step - loss: 61753320.0000 - mean_squared_error: 61753320.0000\n",
            "Epoch 4/100\n",
            "366/366 [==============================] - 1s 2ms/step - loss: 61690928.0000 - mean_squared_error: 61690928.0000\n",
            "Epoch 5/100\n",
            "366/366 [==============================] - 1s 2ms/step - loss: 61605348.0000 - mean_squared_error: 61605348.0000\n",
            "Epoch 6/100\n",
            "366/366 [==============================] - 1s 2ms/step - loss: 61510132.0000 - mean_squared_error: 61510132.0000\n",
            "Epoch 7/100\n",
            "366/366 [==============================] - 1s 2ms/step - loss: 61416680.0000 - mean_squared_error: 61416680.0000\n",
            "Epoch 8/100\n",
            "366/366 [==============================] - 1s 2ms/step - loss: 61337272.0000 - mean_squared_error: 61337272.0000\n",
            "Epoch 9/100\n",
            "366/366 [==============================] - 1s 2ms/step - loss: 61272764.0000 - mean_squared_error: 61272764.0000\n",
            "Epoch 10/100\n",
            "366/366 [==============================] - 1s 2ms/step - loss: 61221212.0000 - mean_squared_error: 61221212.0000\n",
            "Epoch 11/100\n",
            "366/366 [==============================] - 1s 2ms/step - loss: 61182736.0000 - mean_squared_error: 61182736.0000\n",
            "Epoch 12/100\n",
            "366/366 [==============================] - 1s 2ms/step - loss: 61156712.0000 - mean_squared_error: 61156712.0000\n",
            "Epoch 13/100\n",
            "366/366 [==============================] - 1s 2ms/step - loss: 61137736.0000 - mean_squared_error: 61137736.0000\n",
            "Epoch 14/100\n",
            "366/366 [==============================] - 1s 2ms/step - loss: 61123796.0000 - mean_squared_error: 61123796.0000\n",
            "Epoch 15/100\n",
            "366/366 [==============================] - 1s 2ms/step - loss: 61113480.0000 - mean_squared_error: 61113480.0000\n",
            "Epoch 16/100\n",
            "366/366 [==============================] - 1s 2ms/step - loss: 61104648.0000 - mean_squared_error: 61104648.0000\n",
            "Epoch 17/100\n",
            "366/366 [==============================] - 1s 2ms/step - loss: 61098488.0000 - mean_squared_error: 61098488.0000\n",
            "Epoch 18/100\n",
            "366/366 [==============================] - 1s 2ms/step - loss: 61093396.0000 - mean_squared_error: 61093396.0000\n",
            "Epoch 19/100\n",
            "366/366 [==============================] - 1s 2ms/step - loss: 61088940.0000 - mean_squared_error: 61088940.0000\n",
            "Epoch 20/100\n",
            "366/366 [==============================] - 1s 2ms/step - loss: 61084256.0000 - mean_squared_error: 61084256.0000\n",
            "Epoch 21/100\n",
            "366/366 [==============================] - 1s 2ms/step - loss: 61080612.0000 - mean_squared_error: 61080612.0000\n",
            "Epoch 22/100\n",
            "366/366 [==============================] - 1s 2ms/step - loss: 61076540.0000 - mean_squared_error: 61076540.0000\n",
            "Epoch 23/100\n",
            "366/366 [==============================] - 1s 2ms/step - loss: 61073440.0000 - mean_squared_error: 61073440.0000\n",
            "Epoch 24/100\n",
            "366/366 [==============================] - 1s 2ms/step - loss: 61069632.0000 - mean_squared_error: 61069632.0000\n",
            "Epoch 25/100\n",
            "366/366 [==============================] - 1s 2ms/step - loss: 61066056.0000 - mean_squared_error: 61066056.0000\n",
            "Epoch 26/100\n",
            "366/366 [==============================] - 1s 2ms/step - loss: 61062740.0000 - mean_squared_error: 61062740.0000\n",
            "Epoch 27/100\n",
            "366/366 [==============================] - 1s 2ms/step - loss: 61058496.0000 - mean_squared_error: 61058496.0000\n",
            "Epoch 28/100\n",
            "366/366 [==============================] - 1s 2ms/step - loss: 61054700.0000 - mean_squared_error: 61054700.0000\n",
            "Epoch 29/100\n",
            "366/366 [==============================] - 1s 2ms/step - loss: 61051044.0000 - mean_squared_error: 61051044.0000\n",
            "Epoch 30/100\n",
            "366/366 [==============================] - 1s 2ms/step - loss: 61047164.0000 - mean_squared_error: 61047164.0000\n",
            "Epoch 31/100\n",
            "366/366 [==============================] - 1s 2ms/step - loss: 61043264.0000 - mean_squared_error: 61043264.0000\n",
            "Epoch 32/100\n",
            "366/366 [==============================] - 1s 2ms/step - loss: 61038720.0000 - mean_squared_error: 61038720.0000\n",
            "Epoch 33/100\n",
            "366/366 [==============================] - 1s 2ms/step - loss: 61034532.0000 - mean_squared_error: 61034532.0000\n",
            "Epoch 34/100\n",
            "366/366 [==============================] - 1s 2ms/step - loss: 61030596.0000 - mean_squared_error: 61030596.0000\n",
            "Epoch 35/100\n",
            "366/366 [==============================] - 1s 2ms/step - loss: 61026272.0000 - mean_squared_error: 61026272.0000\n",
            "Epoch 36/100\n",
            "366/366 [==============================] - 1s 2ms/step - loss: 61022380.0000 - mean_squared_error: 61022380.0000\n",
            "Epoch 37/100\n",
            "366/366 [==============================] - 1s 2ms/step - loss: 61017744.0000 - mean_squared_error: 61017744.0000\n",
            "Epoch 38/100\n",
            "366/366 [==============================] - 1s 2ms/step - loss: 61013180.0000 - mean_squared_error: 61013180.0000\n",
            "Epoch 39/100\n",
            "366/366 [==============================] - 1s 2ms/step - loss: 61008168.0000 - mean_squared_error: 61008168.0000\n",
            "Epoch 40/100\n",
            "366/366 [==============================] - 1s 2ms/step - loss: 61004104.0000 - mean_squared_error: 61004104.0000\n",
            "Epoch 41/100\n",
            "366/366 [==============================] - 1s 2ms/step - loss: 61000324.0000 - mean_squared_error: 61000324.0000\n",
            "Epoch 42/100\n",
            "366/366 [==============================] - 1s 2ms/step - loss: 60994756.0000 - mean_squared_error: 60994756.0000\n",
            "Epoch 43/100\n",
            "366/366 [==============================] - 1s 2ms/step - loss: 60990608.0000 - mean_squared_error: 60990608.0000\n",
            "Epoch 44/100\n",
            "366/366 [==============================] - 1s 2ms/step - loss: 60985724.0000 - mean_squared_error: 60985724.0000\n",
            "Epoch 45/100\n",
            "366/366 [==============================] - 1s 2ms/step - loss: 60980592.0000 - mean_squared_error: 60980592.0000\n",
            "Epoch 46/100\n",
            "366/366 [==============================] - 1s 2ms/step - loss: 60976444.0000 - mean_squared_error: 60976444.0000\n",
            "Epoch 47/100\n",
            "366/366 [==============================] - 1s 2ms/step - loss: 60970744.0000 - mean_squared_error: 60970744.0000\n",
            "Epoch 48/100\n",
            "366/366 [==============================] - 1s 2ms/step - loss: 60965620.0000 - mean_squared_error: 60965620.0000\n",
            "Epoch 49/100\n",
            "366/366 [==============================] - 1s 2ms/step - loss: 60961488.0000 - mean_squared_error: 60961488.0000\n",
            "Epoch 50/100\n",
            "366/366 [==============================] - 1s 2ms/step - loss: 60957160.0000 - mean_squared_error: 60957160.0000\n",
            "Epoch 51/100\n",
            "366/366 [==============================] - 1s 2ms/step - loss: 60951428.0000 - mean_squared_error: 60951428.0000\n",
            "Epoch 52/100\n",
            "366/366 [==============================] - 1s 2ms/step - loss: 60946092.0000 - mean_squared_error: 60946092.0000\n",
            "Epoch 53/100\n",
            "366/366 [==============================] - 1s 2ms/step - loss: 60942076.0000 - mean_squared_error: 60942076.0000\n",
            "Epoch 54/100\n",
            "366/366 [==============================] - 1s 2ms/step - loss: 60936984.0000 - mean_squared_error: 60936984.0000\n",
            "Epoch 55/100\n",
            "366/366 [==============================] - 1s 2ms/step - loss: 60931660.0000 - mean_squared_error: 60931660.0000\n",
            "Epoch 56/100\n",
            "366/366 [==============================] - 1s 2ms/step - loss: 60926760.0000 - mean_squared_error: 60926760.0000\n",
            "Epoch 57/100\n",
            "366/366 [==============================] - 1s 2ms/step - loss: 60922732.0000 - mean_squared_error: 60922732.0000\n",
            "Epoch 58/100\n",
            "366/366 [==============================] - 1s 2ms/step - loss: 60918096.0000 - mean_squared_error: 60918096.0000\n",
            "Epoch 59/100\n",
            "366/366 [==============================] - 1s 2ms/step - loss: 60913532.0000 - mean_squared_error: 60913532.0000\n",
            "Epoch 60/100\n",
            "366/366 [==============================] - 1s 2ms/step - loss: 60909344.0000 - mean_squared_error: 60909344.0000\n",
            "Epoch 61/100\n",
            "366/366 [==============================] - 1s 2ms/step - loss: 60904864.0000 - mean_squared_error: 60904864.0000\n",
            "Epoch 62/100\n",
            "366/366 [==============================] - 1s 2ms/step - loss: 60899296.0000 - mean_squared_error: 60899296.0000\n",
            "Epoch 63/100\n",
            "366/366 [==============================] - 1s 2ms/step - loss: 60895408.0000 - mean_squared_error: 60895408.0000\n",
            "Epoch 64/100\n",
            "366/366 [==============================] - 1s 2ms/step - loss: 60891012.0000 - mean_squared_error: 60891012.0000\n",
            "Epoch 65/100\n",
            "366/366 [==============================] - 1s 2ms/step - loss: 60886168.0000 - mean_squared_error: 60886168.0000\n",
            "Epoch 66/100\n",
            "366/366 [==============================] - 1s 2ms/step - loss: 60882788.0000 - mean_squared_error: 60882788.0000\n",
            "Epoch 67/100\n",
            "366/366 [==============================] - 1s 2ms/step - loss: 60878608.0000 - mean_squared_error: 60878608.0000\n",
            "Epoch 68/100\n",
            "366/366 [==============================] - 1s 2ms/step - loss: 60875096.0000 - mean_squared_error: 60875096.0000\n",
            "Epoch 69/100\n",
            "366/366 [==============================] - 1s 2ms/step - loss: 60872468.0000 - mean_squared_error: 60872468.0000\n",
            "Epoch 70/100\n",
            "366/366 [==============================] - 1s 2ms/step - loss: 60866856.0000 - mean_squared_error: 60866856.0000\n",
            "Epoch 71/100\n",
            "366/366 [==============================] - 1s 2ms/step - loss: 60864020.0000 - mean_squared_error: 60864020.0000\n",
            "Epoch 72/100\n",
            "366/366 [==============================] - 1s 2ms/step - loss: 60861200.0000 - mean_squared_error: 60861200.0000\n",
            "Epoch 73/100\n",
            "366/366 [==============================] - 1s 2ms/step - loss: 60859372.0000 - mean_squared_error: 60859372.0000\n",
            "Epoch 74/100\n",
            "366/366 [==============================] - 1s 2ms/step - loss: 60854696.0000 - mean_squared_error: 60854696.0000\n",
            "Epoch 75/100\n",
            "366/366 [==============================] - 1s 2ms/step - loss: 60851444.0000 - mean_squared_error: 60851444.0000\n",
            "Epoch 76/100\n",
            "366/366 [==============================] - 1s 2ms/step - loss: 60847872.0000 - mean_squared_error: 60847872.0000\n",
            "Epoch 77/100\n",
            "366/366 [==============================] - 1s 2ms/step - loss: 60845248.0000 - mean_squared_error: 60845248.0000\n",
            "Epoch 78/100\n",
            "366/366 [==============================] - 1s 2ms/step - loss: 60843272.0000 - mean_squared_error: 60843272.0000\n",
            "Epoch 79/100\n",
            "366/366 [==============================] - 1s 2ms/step - loss: 60839356.0000 - mean_squared_error: 60839356.0000\n",
            "Epoch 80/100\n",
            "366/366 [==============================] - 1s 2ms/step - loss: 60835272.0000 - mean_squared_error: 60835272.0000\n",
            "Epoch 81/100\n",
            "366/366 [==============================] - 1s 2ms/step - loss: 60834500.0000 - mean_squared_error: 60834500.0000\n",
            "Epoch 82/100\n",
            "366/366 [==============================] - 1s 2ms/step - loss: 60830244.0000 - mean_squared_error: 60830244.0000\n",
            "Epoch 83/100\n",
            "366/366 [==============================] - 1s 2ms/step - loss: 60827940.0000 - mean_squared_error: 60827940.0000\n",
            "Epoch 84/100\n",
            "366/366 [==============================] - 1s 2ms/step - loss: 60825268.0000 - mean_squared_error: 60825268.0000\n",
            "Epoch 85/100\n",
            "366/366 [==============================] - 1s 2ms/step - loss: 60823324.0000 - mean_squared_error: 60823324.0000\n",
            "Epoch 86/100\n",
            "366/366 [==============================] - 1s 2ms/step - loss: 60820620.0000 - mean_squared_error: 60820620.0000\n",
            "Epoch 87/100\n",
            "366/366 [==============================] - 1s 2ms/step - loss: 60817912.0000 - mean_squared_error: 60817912.0000\n",
            "Epoch 88/100\n",
            "366/366 [==============================] - 1s 3ms/step - loss: 60815396.0000 - mean_squared_error: 60815396.0000\n",
            "Epoch 89/100\n",
            "366/366 [==============================] - 1s 3ms/step - loss: 60813916.0000 - mean_squared_error: 60813916.0000\n",
            "Epoch 90/100\n",
            "366/366 [==============================] - 1s 2ms/step - loss: 60812784.0000 - mean_squared_error: 60812784.0000\n",
            "Epoch 91/100\n",
            "366/366 [==============================] - 1s 2ms/step - loss: 60809452.0000 - mean_squared_error: 60809452.0000\n",
            "Epoch 92/100\n",
            "366/366 [==============================] - 1s 2ms/step - loss: 60807532.0000 - mean_squared_error: 60807532.0000\n",
            "Epoch 93/100\n",
            "366/366 [==============================] - 1s 2ms/step - loss: 60806104.0000 - mean_squared_error: 60806104.0000\n",
            "Epoch 94/100\n",
            "366/366 [==============================] - 1s 2ms/step - loss: 60802864.0000 - mean_squared_error: 60802864.0000\n",
            "Epoch 95/100\n",
            "366/366 [==============================] - 1s 2ms/step - loss: 60801708.0000 - mean_squared_error: 60801708.0000\n",
            "Epoch 96/100\n",
            "366/366 [==============================] - 1s 2ms/step - loss: 60800524.0000 - mean_squared_error: 60800524.0000\n",
            "Epoch 97/100\n",
            "366/366 [==============================] - 1s 2ms/step - loss: 60797036.0000 - mean_squared_error: 60797036.0000\n",
            "Epoch 98/100\n",
            "366/366 [==============================] - 1s 2ms/step - loss: 60795836.0000 - mean_squared_error: 60795836.0000\n",
            "Epoch 99/100\n",
            "366/366 [==============================] - 1s 2ms/step - loss: 60794772.0000 - mean_squared_error: 60794772.0000\n",
            "Epoch 100/100\n",
            "366/366 [==============================] - 1s 2ms/step - loss: 60792348.0000 - mean_squared_error: 60792348.0000\n"
          ]
        }
      ]
    },
    {
      "cell_type": "code",
      "source": [
        "import joblib\n",
        "joblib.dump(decision_tree,\"decisiontree_youtubeadview.pkl\")\n",
        "ann.save(\"youtubeadview.h5\")"
      ],
      "metadata": {
        "id": "i7-lJPBfSdG_"
      },
      "execution_count": 73,
      "outputs": []
    }
  ]
}